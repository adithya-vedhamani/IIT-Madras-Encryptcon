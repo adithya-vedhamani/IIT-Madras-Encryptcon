{
 "cells": [
  {
   "cell_type": "code",
   "execution_count": 51,
   "metadata": {},
   "outputs": [],
   "source": [
    "import numpy as np\n",
    "import pandas as pd\n",
    "\n",
    "from collections import Counter\n",
    "\n",
    "from scipy.stats import skew\n",
    "import sklearn\n",
    "from sklearn.model_selection import train_test_split\n",
    "from sklearn.metrics import roc_auc_score\n",
    "from sklearn.metrics import accuracy_score\n",
    "from sklearn.metrics import confusion_matrix\n",
    "from sklearn.metrics import classification_report\n",
    "\n",
    "import seaborn as sns\n",
    "import matplotlib as mpl\n",
    "import matplotlib.pyplot as plt"
   ]
  },
  {
   "cell_type": "code",
   "execution_count": 52,
   "metadata": {},
   "outputs": [],
   "source": [
    "data = pd.read_csv('TheRealData.csv')"
   ]
  },
  {
   "cell_type": "code",
   "execution_count": 53,
   "metadata": {},
   "outputs": [
    {
     "data": {
      "text/html": [
       "<div>\n",
       "<style scoped>\n",
       "    .dataframe tbody tr th:only-of-type {\n",
       "        vertical-align: middle;\n",
       "    }\n",
       "\n",
       "    .dataframe tbody tr th {\n",
       "        vertical-align: top;\n",
       "    }\n",
       "\n",
       "    .dataframe thead th {\n",
       "        text-align: right;\n",
       "    }\n",
       "</style>\n",
       "<table border=\"1\" class=\"dataframe\">\n",
       "  <thead>\n",
       "    <tr style=\"text-align: right;\">\n",
       "      <th></th>\n",
       "      <th>cc_num</th>\n",
       "      <th>merchant</th>\n",
       "      <th>amt</th>\n",
       "      <th>lat</th>\n",
       "      <th>long</th>\n",
       "      <th>merch_lat</th>\n",
       "      <th>merch_long</th>\n",
       "      <th>is_fraud</th>\n",
       "      <th>cc_time_diff</th>\n",
       "      <th>merch_time_diff</th>\n",
       "      <th>merch_distance_diff</th>\n",
       "      <th>distance_diff</th>\n",
       "    </tr>\n",
       "  </thead>\n",
       "  <tbody>\n",
       "    <tr>\n",
       "      <th>0</th>\n",
       "      <td>0.005929</td>\n",
       "      <td>0.005763</td>\n",
       "      <td>49.25</td>\n",
       "      <td>43.0048</td>\n",
       "      <td>-108.8964</td>\n",
       "      <td>42.028563</td>\n",
       "      <td>-108.704803</td>\n",
       "      <td>0</td>\n",
       "      <td>31617.0</td>\n",
       "      <td>348064.0</td>\n",
       "      <td>179.890294</td>\n",
       "      <td>0.0</td>\n",
       "    </tr>\n",
       "    <tr>\n",
       "      <th>1</th>\n",
       "      <td>0.005929</td>\n",
       "      <td>0.018998</td>\n",
       "      <td>72.81</td>\n",
       "      <td>43.0048</td>\n",
       "      <td>-108.8964</td>\n",
       "      <td>43.276726</td>\n",
       "      <td>-109.182729</td>\n",
       "      <td>0</td>\n",
       "      <td>50071.0</td>\n",
       "      <td>898145.0</td>\n",
       "      <td>118.647789</td>\n",
       "      <td>0.0</td>\n",
       "    </tr>\n",
       "    <tr>\n",
       "      <th>2</th>\n",
       "      <td>0.005929</td>\n",
       "      <td>0.001604</td>\n",
       "      <td>3.06</td>\n",
       "      <td>43.0048</td>\n",
       "      <td>-108.8964</td>\n",
       "      <td>42.380831</td>\n",
       "      <td>-109.603971</td>\n",
       "      <td>0</td>\n",
       "      <td>13391.0</td>\n",
       "      <td>651248.0</td>\n",
       "      <td>81.728558</td>\n",
       "      <td>0.0</td>\n",
       "    </tr>\n",
       "    <tr>\n",
       "      <th>3</th>\n",
       "      <td>0.005929</td>\n",
       "      <td>0.002684</td>\n",
       "      <td>18.28</td>\n",
       "      <td>43.0048</td>\n",
       "      <td>-108.8964</td>\n",
       "      <td>43.858421</td>\n",
       "      <td>-109.210773</td>\n",
       "      <td>0</td>\n",
       "      <td>30407.0</td>\n",
       "      <td>412183.0</td>\n",
       "      <td>127.802964</td>\n",
       "      <td>0.0</td>\n",
       "    </tr>\n",
       "    <tr>\n",
       "      <th>4</th>\n",
       "      <td>0.005929</td>\n",
       "      <td>0.002684</td>\n",
       "      <td>104.67</td>\n",
       "      <td>43.0048</td>\n",
       "      <td>-108.8964</td>\n",
       "      <td>43.058281</td>\n",
       "      <td>-109.651038</td>\n",
       "      <td>0</td>\n",
       "      <td>9137.0</td>\n",
       "      <td>196323.0</td>\n",
       "      <td>95.805075</td>\n",
       "      <td>0.0</td>\n",
       "    </tr>\n",
       "    <tr>\n",
       "      <th>...</th>\n",
       "      <td>...</td>\n",
       "      <td>...</td>\n",
       "      <td>...</td>\n",
       "      <td>...</td>\n",
       "      <td>...</td>\n",
       "      <td>...</td>\n",
       "      <td>...</td>\n",
       "      <td>...</td>\n",
       "      <td>...</td>\n",
       "      <td>...</td>\n",
       "      <td>...</td>\n",
       "      <td>...</td>\n",
       "    </tr>\n",
       "    <tr>\n",
       "      <th>1294995</th>\n",
       "      <td>0.003885</td>\n",
       "      <td>0.001659</td>\n",
       "      <td>60.47</td>\n",
       "      <td>41.1730</td>\n",
       "      <td>-89.2187</td>\n",
       "      <td>40.475395</td>\n",
       "      <td>-89.076105</td>\n",
       "      <td>0</td>\n",
       "      <td>30740.0</td>\n",
       "      <td>14963459.0</td>\n",
       "      <td>27.148187</td>\n",
       "      <td>0.0</td>\n",
       "    </tr>\n",
       "    <tr>\n",
       "      <th>1294996</th>\n",
       "      <td>0.003885</td>\n",
       "      <td>0.005684</td>\n",
       "      <td>74.29</td>\n",
       "      <td>41.1730</td>\n",
       "      <td>-89.2187</td>\n",
       "      <td>40.743634</td>\n",
       "      <td>-89.553379</td>\n",
       "      <td>0</td>\n",
       "      <td>12962.0</td>\n",
       "      <td>8087050.0</td>\n",
       "      <td>116.850835</td>\n",
       "      <td>0.0</td>\n",
       "    </tr>\n",
       "    <tr>\n",
       "      <th>1294997</th>\n",
       "      <td>0.003885</td>\n",
       "      <td>0.017332</td>\n",
       "      <td>246.56</td>\n",
       "      <td>41.1730</td>\n",
       "      <td>-89.2187</td>\n",
       "      <td>40.215418</td>\n",
       "      <td>-88.682562</td>\n",
       "      <td>0</td>\n",
       "      <td>7618.0</td>\n",
       "      <td>20897804.0</td>\n",
       "      <td>71.699381</td>\n",
       "      <td>0.0</td>\n",
       "    </tr>\n",
       "    <tr>\n",
       "      <th>1294998</th>\n",
       "      <td>0.003885</td>\n",
       "      <td>0.008239</td>\n",
       "      <td>2.62</td>\n",
       "      <td>41.1730</td>\n",
       "      <td>-89.2187</td>\n",
       "      <td>40.762861</td>\n",
       "      <td>-88.744967</td>\n",
       "      <td>0</td>\n",
       "      <td>18989.0</td>\n",
       "      <td>10294427.0</td>\n",
       "      <td>33.539822</td>\n",
       "      <td>0.0</td>\n",
       "    </tr>\n",
       "    <tr>\n",
       "      <th>1294999</th>\n",
       "      <td>0.003885</td>\n",
       "      <td>0.005488</td>\n",
       "      <td>39.29</td>\n",
       "      <td>41.1730</td>\n",
       "      <td>-89.2187</td>\n",
       "      <td>40.699593</td>\n",
       "      <td>-89.230938</td>\n",
       "      <td>0</td>\n",
       "      <td>6870.0</td>\n",
       "      <td>1634666.0</td>\n",
       "      <td>52.320599</td>\n",
       "      <td>0.0</td>\n",
       "    </tr>\n",
       "  </tbody>\n",
       "</table>\n",
       "<p>1295000 rows × 12 columns</p>\n",
       "</div>"
      ],
      "text/plain": [
       "           cc_num  merchant     amt      lat      long  merch_lat  merch_long  \\\n",
       "0        0.005929  0.005763   49.25  43.0048 -108.8964  42.028563 -108.704803   \n",
       "1        0.005929  0.018998   72.81  43.0048 -108.8964  43.276726 -109.182729   \n",
       "2        0.005929  0.001604    3.06  43.0048 -108.8964  42.380831 -109.603971   \n",
       "3        0.005929  0.002684   18.28  43.0048 -108.8964  43.858421 -109.210773   \n",
       "4        0.005929  0.002684  104.67  43.0048 -108.8964  43.058281 -109.651038   \n",
       "...           ...       ...     ...      ...       ...        ...         ...   \n",
       "1294995  0.003885  0.001659   60.47  41.1730  -89.2187  40.475395  -89.076105   \n",
       "1294996  0.003885  0.005684   74.29  41.1730  -89.2187  40.743634  -89.553379   \n",
       "1294997  0.003885  0.017332  246.56  41.1730  -89.2187  40.215418  -88.682562   \n",
       "1294998  0.003885  0.008239    2.62  41.1730  -89.2187  40.762861  -88.744967   \n",
       "1294999  0.003885  0.005488   39.29  41.1730  -89.2187  40.699593  -89.230938   \n",
       "\n",
       "         is_fraud  cc_time_diff  merch_time_diff  merch_distance_diff  \\\n",
       "0               0       31617.0         348064.0           179.890294   \n",
       "1               0       50071.0         898145.0           118.647789   \n",
       "2               0       13391.0         651248.0            81.728558   \n",
       "3               0       30407.0         412183.0           127.802964   \n",
       "4               0        9137.0         196323.0            95.805075   \n",
       "...           ...           ...              ...                  ...   \n",
       "1294995         0       30740.0       14963459.0            27.148187   \n",
       "1294996         0       12962.0        8087050.0           116.850835   \n",
       "1294997         0        7618.0       20897804.0            71.699381   \n",
       "1294998         0       18989.0       10294427.0            33.539822   \n",
       "1294999         0        6870.0        1634666.0            52.320599   \n",
       "\n",
       "         distance_diff  \n",
       "0                  0.0  \n",
       "1                  0.0  \n",
       "2                  0.0  \n",
       "3                  0.0  \n",
       "4                  0.0  \n",
       "...                ...  \n",
       "1294995            0.0  \n",
       "1294996            0.0  \n",
       "1294997            0.0  \n",
       "1294998            0.0  \n",
       "1294999            0.0  \n",
       "\n",
       "[1295000 rows x 12 columns]"
      ]
     },
     "execution_count": 53,
     "metadata": {},
     "output_type": "execute_result"
    }
   ],
   "source": [
    "data"
   ]
  },
  {
   "cell_type": "code",
   "execution_count": 54,
   "metadata": {},
   "outputs": [],
   "source": [
    "X = data.drop(['is_fraud'], axis=1)\n",
    "Y = data['is_fraud']"
   ]
  },
  {
   "cell_type": "code",
   "execution_count": 55,
   "metadata": {},
   "outputs": [],
   "source": [
    "X_train, X_test, Y_train, Y_test = train_test_split(X, Y, test_size=0.2, random_state=27)"
   ]
  },
  {
   "cell_type": "code",
   "execution_count": 56,
   "metadata": {},
   "outputs": [],
   "source": [
    "from sklearn.tree import DecisionTreeClassifier\n",
    "\n",
    "dcstree = DecisionTreeClassifier(random_state=42)\n",
    "dcstree.fit(X_train, Y_train)\n",
    "\n",
    "Y_pred = dcstree.predict(X_test)"
   ]
  },
  {
   "cell_type": "code",
   "execution_count": 57,
   "metadata": {},
   "outputs": [
    {
     "data": {
      "text/plain": [
       "<AxesSubplot:>"
      ]
     },
     "execution_count": 57,
     "metadata": {},
     "output_type": "execute_result"
    },
    {
     "data": {
      "image/png": "[encoded data removed]",
      "text/plain": [
       "<Figure size 800x600 with 2 Axes>"
      ]
     },
     "metadata": {},
     "output_type": "display_data"
    }
   ],
   "source": [
    "fig = plt.figure(figsize=(8,6))\n",
    "cfs_matrix = confusion_matrix(Y_test, Y_pred)\n",
    "sns.heatmap(cfs_matrix, cmap='viridis', annot=True, fmt='d', annot_kws=dict(fontsize=14))"
   ]
  },
  {
   "cell_type": "code",
   "execution_count": 58,
   "metadata": {},
   "outputs": [
    {
     "name": "stdout",
     "output_type": "stream",
     "text": [
      "              precision    recall  f1-score   support\n",
      "\n",
      "           0       1.00      1.00      1.00    257472\n",
      "           1       0.52      0.56      0.54      1528\n",
      "\n",
      "    accuracy                           0.99    259000\n",
      "   macro avg       0.76      0.78      0.77    259000\n",
      "weighted avg       0.99      0.99      0.99    259000\n",
      "\n"
     ]
    }
   ],
   "source": [
    "print(classification_report(Y_test, Y_pred))"
   ]
  },
  {
   "cell_type": "code",
   "execution_count": 59,
   "metadata": {},
   "outputs": [
    {
     "name": "stdout",
     "output_type": "stream",
     "text": [
      "Before SMOTE: Counter({0: 1030104, 1: 5896})\n",
      "After SMOTE: Counter({0: 1030104, 1: 48050})\n"
     ]
    }
   ],
   "source": [
    "from imblearn.over_sampling import SMOTE\n",
    "smote = SMOTE(sampling_strategy={1:48050}, random_state=42)\n",
    "\n",
    "X_train_smote, y_train_smote = smote.fit_resample(X_train.astype('float'), Y_train)\n",
    "print(\"Before SMOTE:\", Counter(Y_train))\n",
    "print(\"After SMOTE:\", Counter(y_train_smote))"
   ]
  },
  {
   "cell_type": "code",
   "execution_count": 60,
   "metadata": {},
   "outputs": [
    {
     "data": {
      "text/html": [
       "<style>#sk-container-id-3 {color: black;}#sk-container-id-3 pre{padding: 0;}#sk-container-id-3 div.sk-toggleable {background-color: white;}#sk-container-id-3 label.sk-toggleable__label {cursor: pointer;display: block;width: 100%;margin-bottom: 0;padding: 0.3em;box-sizing: border-box;text-align: center;}#sk-container-id-3 label.sk-toggleable__label-arrow:before {content: \"▸\";float: left;margin-right: 0.25em;color: #696969;}#sk-container-id-3 label.sk-toggleable__label-arrow:hover:before {color: black;}#sk-container-id-3 div.sk-estimator:hover label.sk-toggleable__label-arrow:before {color: black;}#sk-container-id-3 div.sk-toggleable__content {max-height: 0;max-width: 0;overflow: hidden;text-align: left;background-color: #f0f8ff;}#sk-container-id-3 div.sk-toggleable__content pre {margin: 0.2em;color: black;border-radius: 0.25em;background-color: #f0f8ff;}#sk-container-id-3 input.sk-toggleable__control:checked~div.sk-toggleable__content {max-height: 200px;max-width: 100%;overflow: auto;}#sk-container-id-3 input.sk-toggleable__control:checked~label.sk-toggleable__label-arrow:before {content: \"▾\";}#sk-container-id-3 div.sk-estimator input.sk-toggleable__control:checked~label.sk-toggleable__label {background-color: #d4ebff;}#sk-container-id-3 div.sk-label input.sk-toggleable__control:checked~label.sk-toggleable__label {background-color: #d4ebff;}#sk-container-id-3 input.sk-hidden--visually {border: 0;clip: rect(1px 1px 1px 1px);clip: rect(1px, 1px, 1px, 1px);height: 1px;margin: -1px;overflow: hidden;padding: 0;position: absolute;width: 1px;}#sk-container-id-3 div.sk-estimator {font-family: monospace;background-color: #f0f8ff;border: 1px dotted black;border-radius: 0.25em;box-sizing: border-box;margin-bottom: 0.5em;}#sk-container-id-3 div.sk-estimator:hover {background-color: #d4ebff;}#sk-container-id-3 div.sk-parallel-item::after {content: \"\";width: 100%;border-bottom: 1px solid gray;flex-grow: 1;}#sk-container-id-3 div.sk-label:hover label.sk-toggleable__label {background-color: #d4ebff;}#sk-container-id-3 div.sk-serial::before {content: \"\";position: absolute;border-left: 1px solid gray;box-sizing: border-box;top: 0;bottom: 0;left: 50%;z-index: 0;}#sk-container-id-3 div.sk-serial {display: flex;flex-direction: column;align-items: center;background-color: white;padding-right: 0.2em;padding-left: 0.2em;position: relative;}#sk-container-id-3 div.sk-item {position: relative;z-index: 1;}#sk-container-id-3 div.sk-parallel {display: flex;align-items: stretch;justify-content: center;background-color: white;position: relative;}#sk-container-id-3 div.sk-item::before, #sk-container-id-3 div.sk-parallel-item::before {content: \"\";position: absolute;border-left: 1px solid gray;box-sizing: border-box;top: 0;bottom: 0;left: 50%;z-index: -1;}#sk-container-id-3 div.sk-parallel-item {display: flex;flex-direction: column;z-index: 1;position: relative;background-color: white;}#sk-container-id-3 div.sk-parallel-item:first-child::after {align-self: flex-end;width: 50%;}#sk-container-id-3 div.sk-parallel-item:last-child::after {align-self: flex-start;width: 50%;}#sk-container-id-3 div.sk-parallel-item:only-child::after {width: 0;}#sk-container-id-3 div.sk-dashed-wrapped {border: 1px dashed gray;margin: 0 0.4em 0.5em 0.4em;box-sizing: border-box;padding-bottom: 0.4em;background-color: white;}#sk-container-id-3 div.sk-label label {font-family: monospace;font-weight: bold;display: inline-block;line-height: 1.2em;}#sk-container-id-3 div.sk-label-container {text-align: center;}#sk-container-id-3 div.sk-container {/* jupyter's `normalize.less` sets `[hidden] { display: none; }` but bootstrap.min.css set `[hidden] { display: none !important; }` so we also need the `!important` here to be able to override the default hidden behavior on the sphinx rendered scikit-learn.org. See: https://github.com/scikit-learn/scikit-learn/issues/21755 */display: inline-block !important;position: relative;}#sk-container-id-3 div.sk-text-repr-fallback {display: none;}</style><div id=\"sk-container-id-3\" class=\"sk-top-container\"><div class=\"sk-text-repr-fallback\"><pre>RandomForestClassifier(random_state=42)</pre><b>In a Jupyter environment, please rerun this cell to show the HTML representation or trust the notebook. <br />On GitHub, the HTML representation is unable to render, please try loading this page with nbviewer.org.</b></div><div class=\"sk-container\" hidden><div class=\"sk-item\"><div class=\"sk-estimator sk-toggleable\"><input class=\"sk-toggleable__control sk-hidden--visually\" id=\"sk-estimator-id-3\" type=\"checkbox\" checked><label for=\"sk-estimator-id-3\" class=\"sk-toggleable__label sk-toggleable__label-arrow\">RandomForestClassifier</label><div class=\"sk-toggleable__content\"><pre>RandomForestClassifier(random_state=42)</pre></div></div></div></div></div>"
      ],
      "text/plain": [
       "RandomForestClassifier(random_state=42)"
      ]
     },
     "execution_count": 60,
     "metadata": {},
     "output_type": "execute_result"
    }
   ],
   "source": [
    "from sklearn.ensemble import RandomForestClassifier\n",
    "\n",
    "\n",
    "model = RandomForestClassifier(random_state=42)\n",
    "model.fit(X_train_smote, y_train_smote)"
   ]
  },
  {
   "cell_type": "code",
   "execution_count": 62,
   "metadata": {},
   "outputs": [
    {
     "name": "stdout",
     "output_type": "stream",
     "text": [
      "              precision    recall  f1-score   support\n",
      "\n",
      "           0       1.00      1.00      1.00    257207\n",
      "           1       0.63      0.54      0.58      1793\n",
      "\n",
      "    accuracy                           0.99    259000\n",
      "   macro avg       0.82      0.77      0.79    259000\n",
      "weighted avg       0.99      0.99      0.99    259000\n",
      "\n"
     ]
    }
   ],
   "source": [
    "Y_pred = model.predict(X_test)\n",
    "\n",
    "print(classification_report(Y_pred, Y_test))"
   ]
  },
  {
   "cell_type": "code",
   "execution_count": 63,
   "metadata": {},
   "outputs": [
    {
     "name": "stdout",
     "output_type": "stream",
     "text": [
      "{'n_estimators': [50, 100, 150, 200], 'max_features': ['auto', 'sqrt'], 'max_depth': [10, 20, 30, 40, 50, None], 'min_samples_split': [2, 5, 10]}\n"
     ]
    }
   ],
   "source": [
    "# Number of trees in random forest\n",
    "n_estimators = [int(x) for x in np.linspace(start = 50, stop = 200, num = 4)]\n",
    "# Number of features to consider at every split\n",
    "max_features = ['auto', 'sqrt']\n",
    "# Maximum number of levels in tree\n",
    "max_depth = [int(x) for x in np.linspace(10, 50, num = 5)]\n",
    "max_depth.append(None)\n",
    "# Minimum number of samples required to split a node\n",
    "min_samples_split = [2, 5, 10]\n",
    "\n",
    "# Create the random grid\n",
    "random_grid = {'n_estimators': n_estimators,\n",
    "               'max_features': max_features,\n",
    "               'max_depth': max_depth,\n",
    "               'min_samples_split': min_samples_split\n",
    "              }\n",
    "\n",
    "print(random_grid)"
   ]
  },
  {
   "cell_type": "code",
   "execution_count": 64,
   "metadata": {},
   "outputs": [],
   "source": [
    "from sklearn.metrics import f1_score, make_scorer\n",
    "f1 = make_scorer(f1_score, greater_is_better=True, pos_label=1)"
   ]
  },
  {
   "cell_type": "code",
   "execution_count": 67,
   "metadata": {},
   "outputs": [
    {
     "name": "stdout",
     "output_type": "stream",
     "text": [
      "Fitting 5 folds for each of 5 candidates, totalling 25 fits\n"
     ]
    }
   ],
   "source": [
    "# Uncomment lines to run this code, this can be \n",
    "\n",
    "from sklearn.model_selection import RandomizedSearchCV\n",
    "\n",
    "rf = RandomForestClassifier()\n",
    "rf_random = RandomizedSearchCV(estimator = rf,\n",
    "                               param_distributions = random_grid,\n",
    "                               n_iter = 5,\n",
    "                               cv = 5,\n",
    "                               verbose=2,\n",
    "                               random_state=42\n",
    "                              )\n",
    "\n",
    "#Fit and show the best parameters\n",
    "rf_random.fit(X_train, Y_train)\n",
    "print(rf_random.best_estimator_)\n"
   ]
  },
  {
   "cell_type": "code",
   "execution_count": 28,
   "metadata": {},
   "outputs": [],
   "source": [
    "import pickle\n",
    "\n",
    "# save the model to disk\n",
    "filename = 'finalized_model.sav'\n",
    "pickle.dump(model, open(filename, 'wb'))\n"
   ]
  },
  {
   "cell_type": "code",
   "execution_count": null,
   "metadata": {},
   "outputs": [],
   "source": []
  }
 ],
 "metadata": {
  "kernelspec": {
   "display_name": "torch",
   "language": "python",
   "name": "python3"
  },
  "language_info": {
   "codemirror_mode": {
    "name": "ipython",
    "version": 3
   },
   "file_extension": ".py",
   "mimetype": "text/x-python",
   "name": "python",
   "nbconvert_exporter": "python",
   "pygments_lexer": "ipython3",
   "version": "3.9.17"
  }
 },
 "nbformat": 4,
 "nbformat_minor": 2
}
